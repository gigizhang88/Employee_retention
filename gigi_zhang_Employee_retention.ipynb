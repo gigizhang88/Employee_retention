{
 "cells": [
  {
   "cell_type": "code",
   "execution_count": null,
   "metadata": {
    "collapsed": true
   },
   "outputs": [],
   "source": [
    "# Employee Retention"
   ]
  },
  {
   "cell_type": "markdown",
   "metadata": {},
   "source": [
    "Employee turn-over is a very costly problem for companies. The cost of replacing an employee if often larger than 100K USD, taking into account the time spent to interview and find a replacement, placement fees, sign-on bonuses and the loss of productivity for several months. It is only natural then that data science has started being applied to this area. Understanding why and when employees are most likely to leave can lead to actions to improve employee retention as well as planning new hiring in advance. This application of DS is sometimes called people analytics or people data science.\n",
    "The data set contains info about the employees and I have to predict when employees are going to quit by understanding the main drivers of employee churn."
   ]
  },
  {
   "cell_type": "code",
   "execution_count": 61,
   "metadata": {
    "collapsed": false
   },
   "outputs": [],
   "source": [
    "# import necessary packages\n",
    "import numpy as np\n",
    "import pandas as pd\n",
    "import matplotlib.pyplot as plt\n",
    "import seaborn as sns\n",
    "from datetime import date, timedelta\n",
    "from collections import defaultdict\n",
    "from sklearn.model_selection import train_test_split\n",
    "import lifelines\n",
    "from lifelines import KaplanMeierFitter\n",
    "from sklearn.linear_model import LogisticRegression\n",
    "from sklearn.ensemble import RandomForestClassifier\n",
    "from lifelines import CoxPHFitter\n",
    "from lifelines.utils import k_fold_cross_validation\n",
    "from sklearn import preprocessing"
   ]
  },
  {
   "cell_type": "code",
   "execution_count": 3,
   "metadata": {
    "collapsed": true
   },
   "outputs": [],
   "source": [
    "%matplotlib inline"
   ]
  },
  {
   "cell_type": "code",
   "execution_count": 4,
   "metadata": {
    "collapsed": false
   },
   "outputs": [
    {
     "data": {
      "text/html": [
       "<div>\n",
       "<table border=\"1\" class=\"dataframe\">\n",
       "  <thead>\n",
       "    <tr style=\"text-align: right;\">\n",
       "      <th></th>\n",
       "      <th>employee_id</th>\n",
       "      <th>company_id</th>\n",
       "      <th>dept</th>\n",
       "      <th>seniority</th>\n",
       "      <th>salary</th>\n",
       "      <th>join_date</th>\n",
       "      <th>quit_date</th>\n",
       "    </tr>\n",
       "  </thead>\n",
       "  <tbody>\n",
       "    <tr>\n",
       "      <th>0</th>\n",
       "      <td>13021.0</td>\n",
       "      <td>7</td>\n",
       "      <td>customer_service</td>\n",
       "      <td>28</td>\n",
       "      <td>89000.0</td>\n",
       "      <td>2014-03-24</td>\n",
       "      <td>2015-10-30</td>\n",
       "    </tr>\n",
       "    <tr>\n",
       "      <th>1</th>\n",
       "      <td>825355.0</td>\n",
       "      <td>7</td>\n",
       "      <td>marketing</td>\n",
       "      <td>20</td>\n",
       "      <td>183000.0</td>\n",
       "      <td>2013-04-29</td>\n",
       "      <td>2014-04-04</td>\n",
       "    </tr>\n",
       "    <tr>\n",
       "      <th>2</th>\n",
       "      <td>927315.0</td>\n",
       "      <td>4</td>\n",
       "      <td>marketing</td>\n",
       "      <td>14</td>\n",
       "      <td>101000.0</td>\n",
       "      <td>2014-10-13</td>\n",
       "      <td>NaN</td>\n",
       "    </tr>\n",
       "    <tr>\n",
       "      <th>3</th>\n",
       "      <td>662910.0</td>\n",
       "      <td>7</td>\n",
       "      <td>customer_service</td>\n",
       "      <td>20</td>\n",
       "      <td>115000.0</td>\n",
       "      <td>2012-05-14</td>\n",
       "      <td>2013-06-07</td>\n",
       "    </tr>\n",
       "    <tr>\n",
       "      <th>4</th>\n",
       "      <td>256971.0</td>\n",
       "      <td>2</td>\n",
       "      <td>data_science</td>\n",
       "      <td>23</td>\n",
       "      <td>276000.0</td>\n",
       "      <td>2011-10-17</td>\n",
       "      <td>2014-08-22</td>\n",
       "    </tr>\n",
       "  </tbody>\n",
       "</table>\n",
       "</div>"
      ],
      "text/plain": [
       "   employee_id  company_id              dept  seniority    salary   join_date  \\\n",
       "0      13021.0           7  customer_service         28   89000.0  2014-03-24   \n",
       "1     825355.0           7         marketing         20  183000.0  2013-04-29   \n",
       "2     927315.0           4         marketing         14  101000.0  2014-10-13   \n",
       "3     662910.0           7  customer_service         20  115000.0  2012-05-14   \n",
       "4     256971.0           2      data_science         23  276000.0  2011-10-17   \n",
       "\n",
       "    quit_date  \n",
       "0  2015-10-30  \n",
       "1  2014-04-04  \n",
       "2         NaN  \n",
       "3  2013-06-07  \n",
       "4  2014-08-22  "
      ]
     },
     "execution_count": 4,
     "metadata": {},
     "output_type": "execute_result"
    }
   ],
   "source": [
    "# read the csv file and have a look at the top few rows\n",
    "df = pd.read_csv(\"../Employee_Retention/employee_retention_data.csv\")\n",
    "df.head()"
   ]
  },
  {
   "cell_type": "code",
   "execution_count": 39,
   "metadata": {
    "collapsed": false
   },
   "outputs": [
    {
     "name": "stdout",
     "output_type": "stream",
     "text": [
      "The type of employee_id is <type 'numpy.float64'>\n",
      "The type of company_id is <type 'numpy.int64'>\n",
      "The type of dept is <type 'str'>\n",
      "The type of seniority is <type 'numpy.int64'>\n",
      "The type of salary is <type 'numpy.float64'>\n",
      "The type of join_date is <type 'str'>\n",
      "The type of quit_date is <type 'str'>\n"
     ]
    }
   ],
   "source": [
    "# know the datatype of each column and make conversions when necessary\n",
    "columns = list(df.columns)\n",
    "for x in columns:\n",
    "    print 'The type of %s is' % x, type(df[x][0])"
   ]
  },
  {
   "cell_type": "code",
   "execution_count": 5,
   "metadata": {
    "collapsed": false
   },
   "outputs": [
    {
     "data": {
      "text/html": [
       "<div>\n",
       "<table border=\"1\" class=\"dataframe\">\n",
       "  <thead>\n",
       "    <tr style=\"text-align: right;\">\n",
       "      <th></th>\n",
       "      <th>employee_id</th>\n",
       "      <th>company_id</th>\n",
       "      <th>dept</th>\n",
       "      <th>seniority</th>\n",
       "      <th>salary</th>\n",
       "      <th>join_date</th>\n",
       "      <th>quit_date</th>\n",
       "      <th>quit_today</th>\n",
       "      <th>working_len</th>\n",
       "    </tr>\n",
       "  </thead>\n",
       "  <tbody>\n",
       "    <tr>\n",
       "      <th>0</th>\n",
       "      <td>13021.0</td>\n",
       "      <td>7</td>\n",
       "      <td>customer_service</td>\n",
       "      <td>28</td>\n",
       "      <td>89000.0</td>\n",
       "      <td>2014-03-24</td>\n",
       "      <td>2015-10-30</td>\n",
       "      <td>1</td>\n",
       "      <td>585</td>\n",
       "    </tr>\n",
       "    <tr>\n",
       "      <th>1</th>\n",
       "      <td>825355.0</td>\n",
       "      <td>7</td>\n",
       "      <td>marketing</td>\n",
       "      <td>20</td>\n",
       "      <td>183000.0</td>\n",
       "      <td>2013-04-29</td>\n",
       "      <td>2014-04-04</td>\n",
       "      <td>1</td>\n",
       "      <td>340</td>\n",
       "    </tr>\n",
       "    <tr>\n",
       "      <th>2</th>\n",
       "      <td>927315.0</td>\n",
       "      <td>4</td>\n",
       "      <td>marketing</td>\n",
       "      <td>14</td>\n",
       "      <td>101000.0</td>\n",
       "      <td>2014-10-13</td>\n",
       "      <td>NaT</td>\n",
       "      <td>0</td>\n",
       "      <td>426</td>\n",
       "    </tr>\n",
       "    <tr>\n",
       "      <th>3</th>\n",
       "      <td>662910.0</td>\n",
       "      <td>7</td>\n",
       "      <td>customer_service</td>\n",
       "      <td>20</td>\n",
       "      <td>115000.0</td>\n",
       "      <td>2012-05-14</td>\n",
       "      <td>2013-06-07</td>\n",
       "      <td>1</td>\n",
       "      <td>389</td>\n",
       "    </tr>\n",
       "    <tr>\n",
       "      <th>4</th>\n",
       "      <td>256971.0</td>\n",
       "      <td>2</td>\n",
       "      <td>data_science</td>\n",
       "      <td>23</td>\n",
       "      <td>276000.0</td>\n",
       "      <td>2011-10-17</td>\n",
       "      <td>2014-08-22</td>\n",
       "      <td>1</td>\n",
       "      <td>1040</td>\n",
       "    </tr>\n",
       "  </tbody>\n",
       "</table>\n",
       "</div>"
      ],
      "text/plain": [
       "   employee_id  company_id              dept  seniority    salary   join_date  \\\n",
       "0      13021.0           7  customer_service         28   89000.0  2014-03-24   \n",
       "1     825355.0           7         marketing         20  183000.0  2013-04-29   \n",
       "2     927315.0           4         marketing         14  101000.0  2014-10-13   \n",
       "3     662910.0           7  customer_service         20  115000.0  2012-05-14   \n",
       "4     256971.0           2      data_science         23  276000.0  2011-10-17   \n",
       "\n",
       "   quit_date  quit_today  working_len  \n",
       "0 2015-10-30           1          585  \n",
       "1 2014-04-04           1          340  \n",
       "2        NaT           0          426  \n",
       "3 2013-06-07           1          389  \n",
       "4 2014-08-22           1         1040  "
      ]
     },
     "execution_count": 5,
     "metadata": {},
     "output_type": "execute_result"
    }
   ],
   "source": [
    "# Add label with quit as 1 and 0 as stay and calculate working length\n",
    "df['quit_today'] = df['quit_date'].apply(lambda x: 0 if pd.isnull(x) else 1) # assign 0 to employee who doesn't quit 1 to quit\n",
    "df['quit_date'] = df['quit_date'].apply(lambda x: pd.to_datetime('2015-12-13') if pd.isnull(x) else x) # assign the last day to NaN\n",
    "df['working_len'] = df['quit_date'].apply(lambda x: pd.to_datetime(x)) - df['join_date'].apply(lambda x: pd.to_datetime(x))\n",
    "df['working_len'] = df['working_len'].apply(lambda x: x.days)\n",
    "df['quit_date'] = df['quit_date'].apply(lambda x: None if x == pd.to_datetime('2015-12-13') else x)\n",
    "df.head()"
   ]
  },
  {
   "cell_type": "code",
   "execution_count": 15,
   "metadata": {
    "collapsed": false
   },
   "outputs": [
    {
     "name": "stdout",
     "output_type": "stream",
     "text": [
      "9180 3167 3190 1380 4613\n"
     ]
    }
   ],
   "source": [
    "# run kmf survival analysis by department\n",
    "df_dept_cs = df.loc[df['dept'] == 'customer_service']\n",
    "df_dept_mkt = df.loc[df['dept'] == 'marketing']\n",
    "df_dept_ds = df.loc[df['dept'] == 'data_science']\n",
    "df_dept_des = df.loc[df['dept'] == 'design']\n",
    "df_dept_eng = df.loc[df['dept'] == 'engineer']\n",
    "print len(df_dept_cs), len(df_dept_mkt), len(df_dept_ds), len(df_dept_des), len(df_dept_eng)"
   ]
  },
  {
   "cell_type": "code",
   "execution_count": 17,
   "metadata": {
    "collapsed": false
   },
   "outputs": [
    {
     "data": {
      "text/plain": [
       "<matplotlib.text.Text at 0xa5b9af8c>"
      ]
     },
     "execution_count": 17,
     "metadata": {},
     "output_type": "execute_result"
    },
    {
     "data": {
      "image/png": "[encoded data removed]",
      "text/plain": [
       "<matplotlib.figure.Figure at 0xa5384f0c>"
      ]
     },
     "metadata": {},
     "output_type": "display_data"
    }
   ],
   "source": [
    "# plot the survival plot by department\n",
    "kmf = KaplanMeierFitter()\n",
    "ax = plt.subplot(111)\n",
    "kmf.fit(df_dept_cs['working_len'], event_observed=df_dept_cs['quit_today'], label='customer_service')\n",
    "kmf.survival_function_.plot(ax=ax)\n",
    "kmf.fit(df_dept_mkt['working_len'], event_observed=df_dept_mkt['quit_today'], label='marketing')\n",
    "kmf.survival_function_.plot(ax=ax)\n",
    "kmf.fit(df_dept_ds['working_len'], event_observed=df_dept_ds['quit_today'], label='data_science')\n",
    "kmf.survival_function_.plot(ax=ax)\n",
    "kmf.fit(df_dept_des['working_len'], event_observed=df_dept_des['quit_today'], label='design')\n",
    "kmf.survival_function_.plot(ax=ax)\n",
    "kmf.fit(df_dept_eng['working_len'], event_observed=df_dept_eng['quit_today'], label='engineer')\n",
    "kmf.survival_function_.plot(ax=ax)\n",
    "plt.xlabel('days since hired')\n",
    "plt.ylabel('probability of staying')\n",
    "plt.title('Survival analysis of employee retention with working length by department')"
   ]
  },
  {
   "cell_type": "code",
   "execution_count": 36,
   "metadata": {
    "collapsed": false
   },
   "outputs": [
    {
     "name": "stdout",
     "output_type": "stream",
     "text": [
      "[1, 2, 3, 4, 5, 6, 7, 8, 9, 10, 11, 12, 13, 14, 15, 16, 17, 18, 19, 20, 21, 22, 23, 24, 25, 26, 27, 28, 29, 98, 99] [17000.0, 18000.0, 19000.0, 20000.0, 21000.0, 22000.0, 23000.0, 24000.0, 25000.0, 26000.0, 27000.0, 28000.0, 29000.0, 30000.0, 31000.0, 32000.0, 33000.0, 34000.0, 35000.0, 36000.0, 37000.0, 38000.0, 39000.0, 40000.0, 41000.0, 42000.0, 43000.0, 44000.0, 45000.0, 46000.0, 47000.0, 48000.0, 49000.0, 50000.0, 51000.0, 52000.0, 53000.0, 54000.0, 55000.0, 56000.0, 57000.0, 58000.0, 59000.0, 60000.0, 61000.0, 62000.0, 63000.0, 64000.0, 65000.0, 66000.0, 67000.0, 68000.0, 69000.0, 70000.0, 71000.0, 72000.0, 73000.0, 74000.0, 75000.0, 76000.0, 77000.0, 78000.0, 79000.0, 80000.0, 81000.0, 82000.0, 83000.0, 84000.0, 85000.0, 86000.0, 87000.0, 88000.0, 89000.0, 90000.0, 91000.0, 92000.0, 93000.0, 94000.0, 95000.0, 96000.0, 97000.0, 98000.0, 99000.0, 100000.0, 101000.0, 102000.0, 103000.0, 104000.0, 105000.0, 106000.0, 107000.0, 108000.0, 109000.0, 110000.0, 111000.0, 112000.0, 113000.0, 114000.0, 115000.0, 116000.0, 117000.0, 118000.0, 119000.0, 120000.0, 121000.0, 122000.0, 123000.0, 124000.0, 125000.0, 126000.0, 127000.0, 128000.0, 129000.0, 130000.0, 131000.0, 132000.0, 133000.0, 134000.0, 135000.0, 136000.0, 137000.0, 138000.0, 139000.0, 140000.0, 141000.0, 142000.0, 143000.0, 144000.0, 145000.0, 146000.0, 147000.0, 148000.0, 149000.0, 150000.0, 151000.0, 152000.0, 153000.0, 154000.0, 155000.0, 156000.0, 157000.0, 158000.0, 159000.0, 160000.0, 161000.0, 162000.0, 163000.0, 164000.0, 165000.0, 166000.0, 167000.0, 168000.0, 169000.0, 170000.0, 171000.0, 172000.0, 173000.0, 174000.0, 175000.0, 176000.0, 177000.0, 178000.0, 179000.0, 180000.0, 181000.0, 182000.0, 183000.0, 184000.0, 185000.0, 186000.0, 187000.0, 188000.0, 189000.0, 190000.0, 191000.0, 192000.0, 193000.0, 194000.0, 195000.0, 196000.0, 197000.0, 198000.0, 199000.0, 200000.0, 201000.0, 202000.0, 203000.0, 204000.0, 205000.0, 206000.0, 207000.0, 208000.0, 209000.0, 210000.0, 211000.0, 212000.0, 213000.0, 214000.0, 215000.0, 216000.0, 217000.0, 218000.0, 219000.0, 220000.0, 221000.0, 222000.0, 223000.0, 224000.0, 225000.0, 226000.0, 227000.0, 228000.0, 229000.0, 230000.0, 231000.0, 232000.0, 233000.0, 234000.0, 235000.0, 236000.0, 237000.0, 238000.0, 239000.0, 240000.0, 241000.0, 242000.0, 243000.0, 244000.0, 245000.0, 246000.0, 247000.0, 248000.0, 249000.0, 250000.0, 251000.0, 252000.0, 253000.0, 254000.0, 255000.0, 256000.0, 257000.0, 258000.0, 259000.0, 260000.0, 261000.0, 262000.0, 263000.0, 264000.0, 265000.0, 266000.0, 267000.0, 268000.0, 269000.0, 270000.0, 271000.0, 272000.0, 273000.0, 274000.0, 275000.0, 276000.0, 277000.0, 278000.0, 279000.0, 280000.0, 281000.0, 282000.0, 283000.0, 284000.0, 285000.0, 286000.0, 287000.0, 288000.0, 289000.0, 290000.0, 291000.0, 292000.0, 293000.0, 294000.0, 295000.0, 296000.0, 297000.0, 298000.0, 299000.0, 300000.0, 301000.0, 302000.0, 303000.0, 304000.0, 305000.0, 306000.0, 307000.0, 308000.0, 309000.0, 310000.0, 311000.0, 312000.0, 313000.0, 314000.0, 315000.0, 316000.0, 317000.0, 318000.0, 319000.0, 320000.0, 321000.0, 322000.0, 323000.0, 324000.0, 325000.0, 326000.0, 327000.0, 328000.0, 329000.0, 330000.0, 331000.0, 332000.0, 333000.0, 334000.0, 335000.0, 336000.0, 337000.0, 338000.0, 339000.0, 340000.0, 341000.0, 342000.0, 343000.0, 344000.0, 345000.0, 346000.0, 347000.0, 348000.0, 349000.0, 350000.0, 351000.0, 352000.0, 353000.0, 354000.0, 355000.0, 356000.0, 357000.0, 358000.0, 359000.0, 360000.0, 361000.0, 362000.0, 363000.0, 364000.0, 365000.0, 366000.0, 367000.0, 368000.0, 370000.0, 371000.0, 372000.0, 374000.0, 375000.0, 376000.0, 377000.0, 378000.0, 379000.0, 381000.0, 386000.0, 393000.0, 398000.0, 406000.0, 408000.0]\n"
     ]
    }
   ],
   "source": [
    "# know the range of seniority and salary\n",
    "print sorted(df['seniority'].unique()), sorted(df['salary'].unique())"
   ]
  },
  {
   "cell_type": "code",
   "execution_count": 34,
   "metadata": {
    "collapsed": false
   },
   "outputs": [],
   "source": [
    "# bin the seniority into 5 categories by their value\n",
    "bins = [0,5,10,15,20,100]\n",
    "group_names = ['short', 'medium', 'long', 'longer','longest']\n",
    "df['categories'] = pd.cut(df['seniority'], bins, labels=group_names)\n",
    "df_year_to5 = df.loc[df['categories'] == 'short']\n",
    "df_year_6to10 = df.loc[df['categories'] == 'medium']\n",
    "df_year_11to15 = df.loc[df['categories'] == 'long']\n",
    "df_year_16to20 = df.loc[df['categories'] == 'longer']\n",
    "df_year_above20 = df.loc[df['categories'] == 'longest']"
   ]
  },
  {
   "cell_type": "code",
   "execution_count": 35,
   "metadata": {
    "collapsed": false
   },
   "outputs": [
    {
     "data": {
      "text/plain": [
       "<matplotlib.text.Text at 0xa2e426cc>"
      ]
     },
     "execution_count": 35,
     "metadata": {},
     "output_type": "execute_result"
    },
    {
     "data": {
      "image/png": "[encoded data removed]",
      "text/plain": [
       "<matplotlib.figure.Figure at 0xa5be432c>"
      ]
     },
     "metadata": {},
     "output_type": "display_data"
    }
   ],
   "source": [
    "# do the kmf analysis and plot\n",
    "ax = plt.subplot(111)\n",
    "kmf.fit(df_year_to5['working_len'], event_observed=df_year_to5['quit_today'], label='year_1_to_5')\n",
    "kmf.survival_function_.plot(ax=ax)\n",
    "kmf.fit(df_year_6to10['working_len'], event_observed=df_year_6to10['quit_today'], label='year_6_to_10')\n",
    "kmf.survival_function_.plot(ax=ax)\n",
    "kmf.fit(df_year_11to15['working_len'], event_observed=df_year_11to15['quit_today'], label='year_11_to_15')\n",
    "kmf.survival_function_.plot(ax=ax)\n",
    "kmf.fit(df_year_16to20['working_len'], event_observed=df_year_16to20['quit_today'], label='year_16_to_20')\n",
    "kmf.survival_function_.plot(ax=ax)\n",
    "kmf.fit(df_year_above20['working_len'], event_observed=df_year_above20['quit_today'], label='year_above_20')\n",
    "kmf.survival_function_.plot(ax=ax)\n",
    "plt.xlabel('days since hired')\n",
    "plt.ylabel('probability of staying')\n",
    "plt.title('Survival analysis of employee retention with working length by seniority')"
   ]
  },
  {
   "cell_type": "code",
   "execution_count": 37,
   "metadata": {
    "collapsed": true
   },
   "outputs": [],
   "source": [
    "# bin the salary to categories by their values\n",
    "bins = [50000,100000,150000,200000,300000,410000]\n",
    "group_names = ['low', 'medium_low', 'medium', 'medium_high','high']\n",
    "df['categories'] = pd.cut(df['salary'], bins, labels=group_names)\n",
    "df_sal_low = df.loc[df['categories'] == 'low']\n",
    "df_sal_med_low = df.loc[df['categories'] == 'medium_low']\n",
    "df_sal_med = df.loc[df['categories'] == 'medium']\n",
    "df_sal_med_high = df.loc[df['categories'] == 'medium_high']\n",
    "df_sal_high = df.loc[df['categories'] == 'high']"
   ]
  },
  {
   "cell_type": "code",
   "execution_count": 38,
   "metadata": {
    "collapsed": false
   },
   "outputs": [
    {
     "data": {
      "text/plain": [
       "<matplotlib.text.Text at 0xa24fcdec>"
      ]
     },
     "execution_count": 38,
     "metadata": {},
     "output_type": "execute_result"
    },
    {
     "data": {
      "image/png": "[encoded data removed]",
      "text/plain": [
       "<matplotlib.figure.Figure at 0xa5b2e90c>"
      ]
     },
     "metadata": {},
     "output_type": "display_data"
    }
   ],
   "source": [
    "# do the kmf anaysis for the data by salary, which is a strong indicator of their retention, the higher salary, the less likely they quit\n",
    "ax = plt.subplot(111)\n",
    "kmf.fit(df_sal_low['working_len'], event_observed=df_sal_low['quit_today'], label='low')\n",
    "kmf.survival_function_.plot(ax=ax)\n",
    "kmf.fit(df_sal_med_low['working_len'], event_observed=df_sal_med_low['quit_today'], label='med_low')\n",
    "kmf.survival_function_.plot(ax=ax)\n",
    "kmf.fit(df_sal_med['working_len'], event_observed=df_sal_med['quit_today'], label='medium')\n",
    "kmf.survival_function_.plot(ax=ax)\n",
    "kmf.fit(df_sal_med_high['working_len'], event_observed=df_sal_med_high['quit_today'], label='med_high')\n",
    "kmf.survival_function_.plot(ax=ax)\n",
    "kmf.fit(df_sal_high['working_len'], event_observed=df_sal_high['quit_today'], label='high')\n",
    "kmf.survival_function_.plot(ax=ax)\n",
    "plt.xlabel('days since hired')\n",
    "plt.ylabel('probability of staying')\n",
    "plt.title('Survival analysis of employee retention with working length by salary')"
   ]
  },
  {
   "cell_type": "code",
   "execution_count": 62,
   "metadata": {
    "collapsed": false
   },
   "outputs": [
    {
     "name": "stdout",
     "output_type": "stream",
     "text": [
      "n=24702, number of events=13510\n",
      "\n",
      "                coef  exp(coef)  se(coef)          z         p  lower 0.95  upper 0.95     \n",
      "seniority  7.348e-02  1.076e+00 1.029e-02  7.144e+00 9.098e-13   5.331e-02   9.364e-02  ***\n",
      "salary    -1.240e-01  8.833e-01 1.030e-02 -1.205e+01 2.026e-33  -1.442e-01  -1.038e-01  ***\n",
      "---\n",
      "Signif. codes:  0 '***' 0.001 '**' 0.01 '*' 0.05 '.' 0.1 ' ' 1 \n",
      "\n",
      "Concordance = 0.529\n",
      "None\n",
      "[0.54047396273992598, 0.52906994800225604, 0.5208777777213881, 0.52449052471232294, 0.52911568459496083]\n"
     ]
    }
   ],
   "source": [
    "# do the Cox survival analysis by considering seniority, salary together\n",
    "cf = CoxPHFitter()\n",
    "feats = ['seniority','salary','working_len','quit_today']\n",
    "X = df[feats]\n",
    "cf.fit(X, 'working_len', event_col='quit_today')\n",
    "print cf.print_summary()  # access the results using cf.summary\n",
    "# use cross validation to get the scores of prediction\n",
    "scores = k_fold_cross_validation(cf, X, 'working_len', event_col='quit_today', k=5)\n",
    "print scores,np.mean(scores), np.std(scores) # (0.52880557955417085, 0.0065998024541694886)"
   ]
  },
  {
   "cell_type": "code",
   "execution_count": 59,
   "metadata": {
    "collapsed": false
   },
   "outputs": [
    {
     "data": {
      "text/html": [
       "<div>\n",
       "<table border=\"1\" class=\"dataframe\">\n",
       "  <thead>\n",
       "    <tr style=\"text-align: right;\">\n",
       "      <th></th>\n",
       "      <th>5339</th>\n",
       "      <th>12313</th>\n",
       "      <th>21318</th>\n",
       "      <th>8048</th>\n",
       "      <th>1457</th>\n",
       "      <th>14028</th>\n",
       "      <th>9403</th>\n",
       "      <th>17595</th>\n",
       "      <th>13236</th>\n",
       "      <th>23707</th>\n",
       "      <th>...</th>\n",
       "      <th>18453</th>\n",
       "      <th>10398</th>\n",
       "      <th>14657</th>\n",
       "      <th>12284</th>\n",
       "      <th>1413</th>\n",
       "      <th>1130</th>\n",
       "      <th>17475</th>\n",
       "      <th>5875</th>\n",
       "      <th>13991</th>\n",
       "      <th>22283</th>\n",
       "    </tr>\n",
       "    <tr>\n",
       "      <th>event_at</th>\n",
       "      <th></th>\n",
       "      <th></th>\n",
       "      <th></th>\n",
       "      <th></th>\n",
       "      <th></th>\n",
       "      <th></th>\n",
       "      <th></th>\n",
       "      <th></th>\n",
       "      <th></th>\n",
       "      <th></th>\n",
       "      <th></th>\n",
       "      <th></th>\n",
       "      <th></th>\n",
       "      <th></th>\n",
       "      <th></th>\n",
       "      <th></th>\n",
       "      <th></th>\n",
       "      <th></th>\n",
       "      <th></th>\n",
       "      <th></th>\n",
       "      <th></th>\n",
       "    </tr>\n",
       "  </thead>\n",
       "  <tbody>\n",
       "    <tr>\n",
       "      <th>0.0</th>\n",
       "      <td>-0.0</td>\n",
       "      <td>-0.0</td>\n",
       "      <td>-0.0</td>\n",
       "      <td>-0.0</td>\n",
       "      <td>-0.0</td>\n",
       "      <td>-0.0</td>\n",
       "      <td>-0.0</td>\n",
       "      <td>-0.0</td>\n",
       "      <td>-0.0</td>\n",
       "      <td>-0.0</td>\n",
       "      <td>...</td>\n",
       "      <td>-0.0</td>\n",
       "      <td>-0.0</td>\n",
       "      <td>-0.0</td>\n",
       "      <td>-0.0</td>\n",
       "      <td>-0.0</td>\n",
       "      <td>-0.0</td>\n",
       "      <td>-0.0</td>\n",
       "      <td>-0.0</td>\n",
       "      <td>-0.0</td>\n",
       "      <td>-0.0</td>\n",
       "    </tr>\n",
       "    <tr>\n",
       "      <th>4.0</th>\n",
       "      <td>-0.0</td>\n",
       "      <td>-0.0</td>\n",
       "      <td>-0.0</td>\n",
       "      <td>-0.0</td>\n",
       "      <td>-0.0</td>\n",
       "      <td>-0.0</td>\n",
       "      <td>-0.0</td>\n",
       "      <td>-0.0</td>\n",
       "      <td>-0.0</td>\n",
       "      <td>-0.0</td>\n",
       "      <td>...</td>\n",
       "      <td>-0.0</td>\n",
       "      <td>-0.0</td>\n",
       "      <td>-0.0</td>\n",
       "      <td>-0.0</td>\n",
       "      <td>-0.0</td>\n",
       "      <td>-0.0</td>\n",
       "      <td>-0.0</td>\n",
       "      <td>-0.0</td>\n",
       "      <td>-0.0</td>\n",
       "      <td>-0.0</td>\n",
       "    </tr>\n",
       "    <tr>\n",
       "      <th>5.0</th>\n",
       "      <td>-0.0</td>\n",
       "      <td>-0.0</td>\n",
       "      <td>-0.0</td>\n",
       "      <td>-0.0</td>\n",
       "      <td>-0.0</td>\n",
       "      <td>-0.0</td>\n",
       "      <td>-0.0</td>\n",
       "      <td>-0.0</td>\n",
       "      <td>-0.0</td>\n",
       "      <td>-0.0</td>\n",
       "      <td>...</td>\n",
       "      <td>-0.0</td>\n",
       "      <td>-0.0</td>\n",
       "      <td>-0.0</td>\n",
       "      <td>-0.0</td>\n",
       "      <td>-0.0</td>\n",
       "      <td>-0.0</td>\n",
       "      <td>-0.0</td>\n",
       "      <td>-0.0</td>\n",
       "      <td>-0.0</td>\n",
       "      <td>-0.0</td>\n",
       "    </tr>\n",
       "    <tr>\n",
       "      <th>6.0</th>\n",
       "      <td>-0.0</td>\n",
       "      <td>-0.0</td>\n",
       "      <td>-0.0</td>\n",
       "      <td>-0.0</td>\n",
       "      <td>-0.0</td>\n",
       "      <td>-0.0</td>\n",
       "      <td>-0.0</td>\n",
       "      <td>-0.0</td>\n",
       "      <td>-0.0</td>\n",
       "      <td>-0.0</td>\n",
       "      <td>...</td>\n",
       "      <td>-0.0</td>\n",
       "      <td>-0.0</td>\n",
       "      <td>-0.0</td>\n",
       "      <td>-0.0</td>\n",
       "      <td>-0.0</td>\n",
       "      <td>-0.0</td>\n",
       "      <td>-0.0</td>\n",
       "      <td>-0.0</td>\n",
       "      <td>-0.0</td>\n",
       "      <td>-0.0</td>\n",
       "    </tr>\n",
       "    <tr>\n",
       "      <th>10.0</th>\n",
       "      <td>-0.0</td>\n",
       "      <td>-0.0</td>\n",
       "      <td>-0.0</td>\n",
       "      <td>-0.0</td>\n",
       "      <td>-0.0</td>\n",
       "      <td>-0.0</td>\n",
       "      <td>-0.0</td>\n",
       "      <td>-0.0</td>\n",
       "      <td>-0.0</td>\n",
       "      <td>-0.0</td>\n",
       "      <td>...</td>\n",
       "      <td>-0.0</td>\n",
       "      <td>-0.0</td>\n",
       "      <td>-0.0</td>\n",
       "      <td>-0.0</td>\n",
       "      <td>-0.0</td>\n",
       "      <td>-0.0</td>\n",
       "      <td>-0.0</td>\n",
       "      <td>-0.0</td>\n",
       "      <td>-0.0</td>\n",
       "      <td>-0.0</td>\n",
       "    </tr>\n",
       "  </tbody>\n",
       "</table>\n",
       "<p>5 rows × 8152 columns</p>\n",
       "</div>"
      ],
      "text/plain": [
       "          5339   12313  21318  8048   1457   14028  9403   17595  13236  \\\n",
       "event_at                                                                  \n",
       "0.0        -0.0   -0.0   -0.0   -0.0   -0.0   -0.0   -0.0   -0.0   -0.0   \n",
       "4.0        -0.0   -0.0   -0.0   -0.0   -0.0   -0.0   -0.0   -0.0   -0.0   \n",
       "5.0        -0.0   -0.0   -0.0   -0.0   -0.0   -0.0   -0.0   -0.0   -0.0   \n",
       "6.0        -0.0   -0.0   -0.0   -0.0   -0.0   -0.0   -0.0   -0.0   -0.0   \n",
       "10.0       -0.0   -0.0   -0.0   -0.0   -0.0   -0.0   -0.0   -0.0   -0.0   \n",
       "\n",
       "          23707  ...    18453  10398  14657  12284  1413   1130   17475  \\\n",
       "event_at         ...                                                      \n",
       "0.0        -0.0  ...     -0.0   -0.0   -0.0   -0.0   -0.0   -0.0   -0.0   \n",
       "4.0        -0.0  ...     -0.0   -0.0   -0.0   -0.0   -0.0   -0.0   -0.0   \n",
       "5.0        -0.0  ...     -0.0   -0.0   -0.0   -0.0   -0.0   -0.0   -0.0   \n",
       "6.0        -0.0  ...     -0.0   -0.0   -0.0   -0.0   -0.0   -0.0   -0.0   \n",
       "10.0       -0.0  ...     -0.0   -0.0   -0.0   -0.0   -0.0   -0.0   -0.0   \n",
       "\n",
       "          5875   13991  22283  \n",
       "event_at                       \n",
       "0.0        -0.0   -0.0   -0.0  \n",
       "4.0        -0.0   -0.0   -0.0  \n",
       "5.0        -0.0   -0.0   -0.0  \n",
       "6.0        -0.0   -0.0   -0.0  \n",
       "10.0       -0.0   -0.0   -0.0  \n",
       "\n",
       "[5 rows x 8152 columns]"
      ]
     },
     "execution_count": 59,
     "metadata": {},
     "output_type": "execute_result"
    }
   ],
   "source": [
    "cf.predict_cumulative_hazard(X_test).head()"
   ]
  },
  {
   "cell_type": "code",
   "execution_count": 46,
   "metadata": {
    "collapsed": false
   },
   "outputs": [
    {
     "data": {
      "text/plain": [
       "<matplotlib.axes._subplots.AxesSubplot at 0xa2435aac>"
      ]
     },
     "execution_count": 46,
     "metadata": {},
     "output_type": "execute_result"
    },
    {
     "name": "stdout",
     "output_type": "stream",
     "text": [
      "\n"
     ]
    },
    {
     "data": {
      "image/png": "[encoded data removed]",
      "text/plain": [
       "<matplotlib.figure.Figure at 0xa23d3ccc>"
      ]
     },
     "metadata": {},
     "output_type": "display_data"
    }
   ],
   "source": [
    "# plot the Cox survival anaysis \n",
    "fig, axes = plt.subplots(nrows=1, ncols=2, squeeze=False, sharex=True)\n",
    "cf.baseline_cumulative_hazard_.plot(ax=axes[0,0], legend=False,title='Baseline cumulative hazard rate')\n",
    "cf.baseline_survival_.plot(ax=axes[0,1], legend=False,title='Baseline survival rate')"
   ]
  },
  {
   "cell_type": "code",
   "execution_count": 132,
   "metadata": {
    "collapsed": false
   },
   "outputs": [
    {
     "data": {
      "text/html": [
       "<div>\n",
       "<table border=\"1\" class=\"dataframe\">\n",
       "  <thead>\n",
       "    <tr style=\"text-align: right;\">\n",
       "      <th></th>\n",
       "      <th>dept</th>\n",
       "      <th>salary</th>\n",
       "      <th>quit_today</th>\n",
       "      <th>working_len</th>\n",
       "    </tr>\n",
       "  </thead>\n",
       "  <tbody>\n",
       "    <tr>\n",
       "      <th>0</th>\n",
       "      <td>customer_service</td>\n",
       "      <td>82245.424837</td>\n",
       "      <td>0.554902</td>\n",
       "      <td>561</td>\n",
       "    </tr>\n",
       "    <tr>\n",
       "      <th>1</th>\n",
       "      <td>data_science</td>\n",
       "      <td>206885.893417</td>\n",
       "      <td>0.527273</td>\n",
       "      <td>606</td>\n",
       "    </tr>\n",
       "    <tr>\n",
       "      <th>2</th>\n",
       "      <td>design</td>\n",
       "      <td>137460.869565</td>\n",
       "      <td>0.563768</td>\n",
       "      <td>573</td>\n",
       "    </tr>\n",
       "    <tr>\n",
       "      <th>3</th>\n",
       "      <td>engineer</td>\n",
       "      <td>205544.548016</td>\n",
       "      <td>0.512031</td>\n",
       "      <td>602</td>\n",
       "    </tr>\n",
       "    <tr>\n",
       "      <th>4</th>\n",
       "      <td>marketing</td>\n",
       "      <td>135598.042311</td>\n",
       "      <td>0.562993</td>\n",
       "      <td>559</td>\n",
       "    </tr>\n",
       "  </tbody>\n",
       "</table>\n",
       "</div>"
      ],
      "text/plain": [
       "               dept         salary  quit_today  working_len\n",
       "0  customer_service   82245.424837    0.554902          561\n",
       "1      data_science  206885.893417    0.527273          606\n",
       "2            design  137460.869565    0.563768          573\n",
       "3          engineer  205544.548016    0.512031          602\n",
       "4         marketing  135598.042311    0.562993          559"
      ]
     },
     "execution_count": 132,
     "metadata": {},
     "output_type": "execute_result"
    }
   ],
   "source": [
    "df_dept = df.groupby('dept').agg({'quit_today': lambda x: x.sum()/float(len(x)), 'working_len': lambda x: x.sum()/len(x), 'salary': lambda x: x.sum()/len(x)})\n",
    "df_dept = pd.DataFrame(df_dept.to_records())\n",
    "df_dept.head()"
   ]
  },
  {
   "cell_type": "code",
   "execution_count": 103,
   "metadata": {
    "collapsed": false
   },
   "outputs": [
    {
     "name": "stdout",
     "output_type": "stream",
     "text": [
      "2014-01-24 00:00:00 <class 'pandas.tslib.Timestamp'>\n"
     ]
    }
   ],
   "source": [
    "day = pd.to_datetime('2014-01-24')\n",
    "print day, type(day)"
   ]
  },
  {
   "cell_type": "code",
   "execution_count": 104,
   "metadata": {
    "collapsed": false
   },
   "outputs": [
    {
     "data": {
      "text/html": [
       "<div>\n",
       "<table border=\"1\" class=\"dataframe\">\n",
       "  <thead>\n",
       "    <tr style=\"text-align: right;\">\n",
       "      <th></th>\n",
       "      <th>employee_id</th>\n",
       "      <th>company_id</th>\n",
       "      <th>dept</th>\n",
       "      <th>seniority</th>\n",
       "      <th>salary</th>\n",
       "      <th>join_date</th>\n",
       "      <th>quit_date</th>\n",
       "      <th>quit_today</th>\n",
       "      <th>working_len</th>\n",
       "      <th>hired</th>\n",
       "      <th>quit</th>\n",
       "    </tr>\n",
       "  </thead>\n",
       "  <tbody>\n",
       "    <tr>\n",
       "      <th>0</th>\n",
       "      <td>13021.0</td>\n",
       "      <td>7</td>\n",
       "      <td>customer_service</td>\n",
       "      <td>28</td>\n",
       "      <td>89000.0</td>\n",
       "      <td>2014-03-24</td>\n",
       "      <td>2015-10-30</td>\n",
       "      <td>1</td>\n",
       "      <td>585</td>\n",
       "      <td>0</td>\n",
       "      <td>0</td>\n",
       "    </tr>\n",
       "    <tr>\n",
       "      <th>1</th>\n",
       "      <td>825355.0</td>\n",
       "      <td>7</td>\n",
       "      <td>marketing</td>\n",
       "      <td>20</td>\n",
       "      <td>183000.0</td>\n",
       "      <td>2013-04-29</td>\n",
       "      <td>2014-04-04</td>\n",
       "      <td>1</td>\n",
       "      <td>340</td>\n",
       "      <td>1</td>\n",
       "      <td>0</td>\n",
       "    </tr>\n",
       "    <tr>\n",
       "      <th>2</th>\n",
       "      <td>927315.0</td>\n",
       "      <td>4</td>\n",
       "      <td>marketing</td>\n",
       "      <td>14</td>\n",
       "      <td>101000.0</td>\n",
       "      <td>2014-10-13</td>\n",
       "      <td>NaT</td>\n",
       "      <td>0</td>\n",
       "      <td>426</td>\n",
       "      <td>0</td>\n",
       "      <td>0</td>\n",
       "    </tr>\n",
       "    <tr>\n",
       "      <th>3</th>\n",
       "      <td>662910.0</td>\n",
       "      <td>7</td>\n",
       "      <td>customer_service</td>\n",
       "      <td>20</td>\n",
       "      <td>115000.0</td>\n",
       "      <td>2012-05-14</td>\n",
       "      <td>2013-06-07</td>\n",
       "      <td>1</td>\n",
       "      <td>389</td>\n",
       "      <td>1</td>\n",
       "      <td>1</td>\n",
       "    </tr>\n",
       "    <tr>\n",
       "      <th>4</th>\n",
       "      <td>256971.0</td>\n",
       "      <td>2</td>\n",
       "      <td>data_science</td>\n",
       "      <td>23</td>\n",
       "      <td>276000.0</td>\n",
       "      <td>2011-10-17</td>\n",
       "      <td>2014-08-22</td>\n",
       "      <td>1</td>\n",
       "      <td>1040</td>\n",
       "      <td>1</td>\n",
       "      <td>0</td>\n",
       "    </tr>\n",
       "  </tbody>\n",
       "</table>\n",
       "</div>"
      ],
      "text/plain": [
       "   employee_id  company_id              dept  seniority    salary   join_date  \\\n",
       "0      13021.0           7  customer_service         28   89000.0  2014-03-24   \n",
       "1     825355.0           7         marketing         20  183000.0  2013-04-29   \n",
       "2     927315.0           4         marketing         14  101000.0  2014-10-13   \n",
       "3     662910.0           7  customer_service         20  115000.0  2012-05-14   \n",
       "4     256971.0           2      data_science         23  276000.0  2011-10-17   \n",
       "\n",
       "   quit_date  quit_today  working_len  hired  quit  \n",
       "0 2015-10-30           1          585      0     0  \n",
       "1 2014-04-04           1          340      1     0  \n",
       "2        NaT           0          426      0     0  \n",
       "3 2013-06-07           1          389      1     1  \n",
       "4 2014-08-22           1         1040      1     0  "
      ]
     },
     "execution_count": 104,
     "metadata": {},
     "output_type": "execute_result"
    }
   ],
   "source": [
    "df['hired'] = df['join_date'].apply(lambda x: 1 if pd.to_datetime(x) <= day else 0)\n",
    "df['quit'] = df['quit_date'].apply(lambda x: 1 if pd.to_datetime(x) <= day else 0)\n",
    "df.head()"
   ]
  },
  {
   "cell_type": "code",
   "execution_count": null,
   "metadata": {
    "collapsed": true
   },
   "outputs": [],
   "source": []
  },
  {
   "cell_type": "code",
   "execution_count": 120,
   "metadata": {
    "collapsed": false
   },
   "outputs": [
    {
     "name": "stdout",
     "output_type": "stream",
     "text": [
      "12 60 2014-01-24 00:00:00\n"
     ]
    },
    {
     "data": {
      "text/html": [
       "<div>\n",
       "<table border=\"1\" class=\"dataframe\">\n",
       "  <thead>\n",
       "    <tr style=\"text-align: right;\">\n",
       "      <th></th>\n",
       "      <th>company_id</th>\n",
       "      <th>salary</th>\n",
       "      <th>quit</th>\n",
       "      <th>hired</th>\n",
       "      <th>head_count</th>\n",
       "    </tr>\n",
       "  </thead>\n",
       "  <tbody>\n",
       "    <tr>\n",
       "      <th>0</th>\n",
       "      <td>1</td>\n",
       "      <td>152167.570115</td>\n",
       "      <td>1793</td>\n",
       "      <td>5275</td>\n",
       "      <td>3482</td>\n",
       "    </tr>\n",
       "    <tr>\n",
       "      <th>1</th>\n",
       "      <td>2</td>\n",
       "      <td>155728.090952</td>\n",
       "      <td>849</td>\n",
       "      <td>2565</td>\n",
       "      <td>1716</td>\n",
       "    </tr>\n",
       "    <tr>\n",
       "      <th>2</th>\n",
       "      <td>3</td>\n",
       "      <td>122118.588578</td>\n",
       "      <td>601</td>\n",
       "      <td>1686</td>\n",
       "      <td>1085</td>\n",
       "    </tr>\n",
       "    <tr>\n",
       "      <th>3</th>\n",
       "      <td>4</td>\n",
       "      <td>122721.144520</td>\n",
       "      <td>468</td>\n",
       "      <td>1258</td>\n",
       "      <td>790</td>\n",
       "    </tr>\n",
       "    <tr>\n",
       "      <th>4</th>\n",
       "      <td>5</td>\n",
       "      <td>123348.717949</td>\n",
       "      <td>390</td>\n",
       "      <td>1055</td>\n",
       "      <td>665</td>\n",
       "    </tr>\n",
       "  </tbody>\n",
       "</table>\n",
       "</div>"
      ],
      "text/plain": [
       "   company_id         salary  quit  hired  head_count\n",
       "0           1  152167.570115  1793   5275        3482\n",
       "1           2  155728.090952   849   2565        1716\n",
       "2           3  122118.588578   601   1686        1085\n",
       "3           4  122721.144520   468   1258         790\n",
       "4           5  123348.717949   390   1055         665"
      ]
     },
     "execution_count": 120,
     "metadata": {},
     "output_type": "execute_result"
    }
   ],
   "source": [
    "df_company = df.groupby('company_id').agg({'hired': sum, 'quit': sum, 'salary': lambda x: x.sum()/len(x)})\n",
    "df_company['head_count'] = df_company['hired'] - df_company['quit']\n",
    "print len(df_company),i, day\n",
    "df_company = pd.DataFrame(df_company.to_records())\n",
    "df_company.head()"
   ]
  },
  {
   "cell_type": "code",
   "execution_count": 128,
   "metadata": {
    "collapsed": false
   },
   "outputs": [
    {
     "name": "stdout",
     "output_type": "stream",
     "text": [
      "1785 [Timestamp('2011-01-24 00:00:00'), Timestamp('2011-01-25 00:00:00'), Timestamp('2011-01-26 00:00:00'), Timestamp('2011-01-27 00:00:00'), Timestamp('2011-01-28 00:00:00')]\n"
     ]
    }
   ],
   "source": [
    "start_day = pd.to_datetime('2011-01-24')\n",
    "end_day = pd.to_datetime('2015-12-13')\n",
    "days = [start_day + timedelta(days=x) for x in range((end_day-start_day).days + 1)]\n",
    "print len(days), days[:5]"
   ]
  },
  {
   "cell_type": "code",
   "execution_count": 113,
   "metadata": {
    "collapsed": false
   },
   "outputs": [
    {
     "data": {
      "text/html": [
       "<div>\n",
       "<table border=\"1\" class=\"dataframe\">\n",
       "  <thead>\n",
       "    <tr style=\"text-align: right;\">\n",
       "      <th></th>\n",
       "      <th>2011-01-24 00:00:00</th>\n",
       "      <th>2011-01-25 00:00:00</th>\n",
       "      <th>2011-01-26 00:00:00</th>\n",
       "      <th>2011-01-27 00:00:00</th>\n",
       "      <th>2011-01-28 00:00:00</th>\n",
       "      <th>2011-01-29 00:00:00</th>\n",
       "      <th>2011-01-30 00:00:00</th>\n",
       "      <th>2011-01-31 00:00:00</th>\n",
       "      <th>2011-02-01 00:00:00</th>\n",
       "      <th>2011-02-02 00:00:00</th>\n",
       "      <th>...</th>\n",
       "      <th>2011-03-15 00:00:00</th>\n",
       "      <th>2011-03-16 00:00:00</th>\n",
       "      <th>2011-03-17 00:00:00</th>\n",
       "      <th>2011-03-18 00:00:00</th>\n",
       "      <th>2011-03-19 00:00:00</th>\n",
       "      <th>2011-03-20 00:00:00</th>\n",
       "      <th>2011-03-21 00:00:00</th>\n",
       "      <th>2011-03-22 00:00:00</th>\n",
       "      <th>2011-03-23 00:00:00</th>\n",
       "      <th>2011-03-24 00:00:00</th>\n",
       "    </tr>\n",
       "  </thead>\n",
       "  <tbody>\n",
       "    <tr>\n",
       "      <th>0</th>\n",
       "      <td>0</td>\n",
       "      <td>0</td>\n",
       "      <td>0</td>\n",
       "      <td>0</td>\n",
       "      <td>0</td>\n",
       "      <td>0</td>\n",
       "      <td>0</td>\n",
       "      <td>0</td>\n",
       "      <td>0</td>\n",
       "      <td>0</td>\n",
       "      <td>...</td>\n",
       "      <td>0</td>\n",
       "      <td>0</td>\n",
       "      <td>0</td>\n",
       "      <td>0</td>\n",
       "      <td>0</td>\n",
       "      <td>0</td>\n",
       "      <td>0</td>\n",
       "      <td>0</td>\n",
       "      <td>0</td>\n",
       "      <td>0</td>\n",
       "    </tr>\n",
       "    <tr>\n",
       "      <th>1</th>\n",
       "      <td>25</td>\n",
       "      <td>27</td>\n",
       "      <td>29</td>\n",
       "      <td>29</td>\n",
       "      <td>29</td>\n",
       "      <td>29</td>\n",
       "      <td>29</td>\n",
       "      <td>59</td>\n",
       "      <td>66</td>\n",
       "      <td>67</td>\n",
       "      <td>...</td>\n",
       "      <td>234</td>\n",
       "      <td>236</td>\n",
       "      <td>237</td>\n",
       "      <td>237</td>\n",
       "      <td>237</td>\n",
       "      <td>237</td>\n",
       "      <td>268</td>\n",
       "      <td>270</td>\n",
       "      <td>272</td>\n",
       "      <td>272</td>\n",
       "    </tr>\n",
       "    <tr>\n",
       "      <th>2</th>\n",
       "      <td>25</td>\n",
       "      <td>27</td>\n",
       "      <td>29</td>\n",
       "      <td>29</td>\n",
       "      <td>29</td>\n",
       "      <td>29</td>\n",
       "      <td>29</td>\n",
       "      <td>59</td>\n",
       "      <td>66</td>\n",
       "      <td>67</td>\n",
       "      <td>...</td>\n",
       "      <td>234</td>\n",
       "      <td>236</td>\n",
       "      <td>237</td>\n",
       "      <td>237</td>\n",
       "      <td>237</td>\n",
       "      <td>237</td>\n",
       "      <td>268</td>\n",
       "      <td>270</td>\n",
       "      <td>272</td>\n",
       "      <td>272</td>\n",
       "    </tr>\n",
       "    <tr>\n",
       "      <th>3</th>\n",
       "      <td>0</td>\n",
       "      <td>0</td>\n",
       "      <td>0</td>\n",
       "      <td>0</td>\n",
       "      <td>0</td>\n",
       "      <td>0</td>\n",
       "      <td>0</td>\n",
       "      <td>0</td>\n",
       "      <td>0</td>\n",
       "      <td>0</td>\n",
       "      <td>...</td>\n",
       "      <td>0</td>\n",
       "      <td>0</td>\n",
       "      <td>0</td>\n",
       "      <td>0</td>\n",
       "      <td>0</td>\n",
       "      <td>0</td>\n",
       "      <td>0</td>\n",
       "      <td>0</td>\n",
       "      <td>0</td>\n",
       "      <td>0</td>\n",
       "    </tr>\n",
       "    <tr>\n",
       "      <th>4</th>\n",
       "      <td>17</td>\n",
       "      <td>19</td>\n",
       "      <td>19</td>\n",
       "      <td>19</td>\n",
       "      <td>19</td>\n",
       "      <td>19</td>\n",
       "      <td>19</td>\n",
       "      <td>31</td>\n",
       "      <td>33</td>\n",
       "      <td>35</td>\n",
       "      <td>...</td>\n",
       "      <td>138</td>\n",
       "      <td>138</td>\n",
       "      <td>138</td>\n",
       "      <td>138</td>\n",
       "      <td>138</td>\n",
       "      <td>138</td>\n",
       "      <td>151</td>\n",
       "      <td>152</td>\n",
       "      <td>152</td>\n",
       "      <td>152</td>\n",
       "    </tr>\n",
       "  </tbody>\n",
       "</table>\n",
       "<p>5 rows × 60 columns</p>\n",
       "</div>"
      ],
      "text/plain": [
       "   2011-01-24  2011-01-25  2011-01-26  2011-01-27  2011-01-28  2011-01-29  \\\n",
       "0           0           0           0           0           0           0   \n",
       "1          25          27          29          29          29          29   \n",
       "2          25          27          29          29          29          29   \n",
       "3           0           0           0           0           0           0   \n",
       "4          17          19          19          19          19          19   \n",
       "\n",
       "   2011-01-30  2011-01-31  2011-02-01  2011-02-02     ...      2011-03-15  \\\n",
       "0           0           0           0           0     ...               0   \n",
       "1          29          59          66          67     ...             234   \n",
       "2          29          59          66          67     ...             234   \n",
       "3           0           0           0           0     ...               0   \n",
       "4          19          31          33          35     ...             138   \n",
       "\n",
       "   2011-03-16  2011-03-17  2011-03-18  2011-03-19  2011-03-20  2011-03-21  \\\n",
       "0           0           0           0           0           0           0   \n",
       "1         236         237         237         237         237         268   \n",
       "2         236         237         237         237         237         268   \n",
       "3           0           0           0           0           0           0   \n",
       "4         138         138         138         138         138         151   \n",
       "\n",
       "   2011-03-22  2011-03-23  2011-03-24  \n",
       "0           0           0           0  \n",
       "1         270         272         272  \n",
       "2         270         272         272  \n",
       "3           0           0           0  \n",
       "4         152         152         152  \n",
       "\n",
       "[5 rows x 60 columns]"
      ]
     },
     "execution_count": 113,
     "metadata": {},
     "output_type": "execute_result"
    }
   ],
   "source": [
    "pd.DataFrame.from_dict(d).head()"
   ]
  },
  {
   "cell_type": "code",
   "execution_count": 125,
   "metadata": {
    "collapsed": false
   },
   "outputs": [
    {
     "data": {
      "text/plain": [
       "3482"
      ]
     },
     "execution_count": 125,
     "metadata": {},
     "output_type": "execute_result"
    }
   ],
   "source": [
    "list(df_company['head_count'])[0]"
   ]
  },
  {
   "cell_type": "code",
   "execution_count": 129,
   "metadata": {
    "collapsed": false
   },
   "outputs": [
    {
     "ename": "KeyboardInterrupt",
     "evalue": "",
     "output_type": "error",
     "traceback": [
      "\u001b[1;31m---------------------------------------------------------------------------\u001b[0m",
      "\u001b[1;31mKeyboardInterrupt\u001b[0m                         Traceback (most recent call last)",
      "\u001b[1;32m<ipython-input-129-394f0014635b>\u001b[0m in \u001b[0;36m<module>\u001b[1;34m()\u001b[0m\n\u001b[0;32m      3\u001b[0m \u001b[1;32mfor\u001b[0m \u001b[0mi\u001b[0m \u001b[1;32min\u001b[0m \u001b[0mrange\u001b[0m\u001b[1;33m(\u001b[0m\u001b[0mlen\u001b[0m\u001b[1;33m(\u001b[0m\u001b[0mdays\u001b[0m\u001b[1;33m)\u001b[0m\u001b[1;33m)\u001b[0m\u001b[1;33m:\u001b[0m\u001b[1;33m\u001b[0m\u001b[0m\n\u001b[0;32m      4\u001b[0m     \u001b[0mday\u001b[0m \u001b[1;33m=\u001b[0m \u001b[0mdays\u001b[0m\u001b[1;33m[\u001b[0m\u001b[0mi\u001b[0m\u001b[1;33m]\u001b[0m\u001b[1;33m\u001b[0m\u001b[0m\n\u001b[1;32m----> 5\u001b[1;33m     \u001b[0mdf_copy\u001b[0m\u001b[1;33m[\u001b[0m\u001b[1;34m'hired'\u001b[0m\u001b[1;33m]\u001b[0m \u001b[1;33m=\u001b[0m \u001b[0mdf_copy\u001b[0m\u001b[1;33m[\u001b[0m\u001b[1;34m'join_date'\u001b[0m\u001b[1;33m]\u001b[0m\u001b[1;33m.\u001b[0m\u001b[0mapply\u001b[0m\u001b[1;33m(\u001b[0m\u001b[1;32mlambda\u001b[0m \u001b[0mx\u001b[0m\u001b[1;33m:\u001b[0m \u001b[1;36m1\u001b[0m \u001b[1;32mif\u001b[0m \u001b[0mpd\u001b[0m\u001b[1;33m.\u001b[0m\u001b[0mto_datetime\u001b[0m\u001b[1;33m(\u001b[0m\u001b[0mx\u001b[0m\u001b[1;33m)\u001b[0m \u001b[1;33m<=\u001b[0m \u001b[0mday\u001b[0m \u001b[1;32melse\u001b[0m \u001b[1;36m0\u001b[0m\u001b[1;33m)\u001b[0m\u001b[1;33m\u001b[0m\u001b[0m\n\u001b[0m\u001b[0;32m      6\u001b[0m     \u001b[0mdf_copy\u001b[0m\u001b[1;33m[\u001b[0m\u001b[1;34m'quit'\u001b[0m\u001b[1;33m]\u001b[0m \u001b[1;33m=\u001b[0m \u001b[0mdf_copy\u001b[0m\u001b[1;33m[\u001b[0m\u001b[1;34m'quit_date'\u001b[0m\u001b[1;33m]\u001b[0m\u001b[1;33m.\u001b[0m\u001b[0mapply\u001b[0m\u001b[1;33m(\u001b[0m\u001b[1;32mlambda\u001b[0m \u001b[0mx\u001b[0m\u001b[1;33m:\u001b[0m \u001b[1;36m1\u001b[0m \u001b[1;32mif\u001b[0m \u001b[0mpd\u001b[0m\u001b[1;33m.\u001b[0m\u001b[0mto_datetime\u001b[0m\u001b[1;33m(\u001b[0m\u001b[0mx\u001b[0m\u001b[1;33m)\u001b[0m \u001b[1;33m<=\u001b[0m \u001b[0mday\u001b[0m \u001b[1;32melse\u001b[0m \u001b[1;36m0\u001b[0m\u001b[1;33m)\u001b[0m\u001b[1;33m\u001b[0m\u001b[0m\n\u001b[0;32m      7\u001b[0m     \u001b[0mdf_new\u001b[0m \u001b[1;33m=\u001b[0m \u001b[0mdf_copy\u001b[0m\u001b[1;33m.\u001b[0m\u001b[0mgroupby\u001b[0m\u001b[1;33m(\u001b[0m\u001b[1;34m'company_id'\u001b[0m\u001b[1;33m)\u001b[0m\u001b[1;33m.\u001b[0m\u001b[0magg\u001b[0m\u001b[1;33m(\u001b[0m\u001b[1;33m{\u001b[0m\u001b[1;34m'hired'\u001b[0m\u001b[1;33m:\u001b[0m \u001b[0msum\u001b[0m\u001b[1;33m,\u001b[0m \u001b[1;34m'quit'\u001b[0m\u001b[1;33m:\u001b[0m \u001b[0msum\u001b[0m\u001b[1;33m}\u001b[0m\u001b[1;33m)\u001b[0m\u001b[1;33m\u001b[0m\u001b[0m\n",
      "\u001b[1;32m/home/gigi/anaconda2/lib/python2.7/site-packages/pandas/core/series.pyc\u001b[0m in \u001b[0;36mapply\u001b[1;34m(self, func, convert_dtype, args, **kwds)\u001b[0m\n\u001b[0;32m   2218\u001b[0m         \u001b[1;32melse\u001b[0m\u001b[1;33m:\u001b[0m\u001b[1;33m\u001b[0m\u001b[0m\n\u001b[0;32m   2219\u001b[0m             \u001b[0mvalues\u001b[0m \u001b[1;33m=\u001b[0m \u001b[0mself\u001b[0m\u001b[1;33m.\u001b[0m\u001b[0masobject\u001b[0m\u001b[1;33m\u001b[0m\u001b[0m\n\u001b[1;32m-> 2220\u001b[1;33m             \u001b[0mmapped\u001b[0m \u001b[1;33m=\u001b[0m \u001b[0mlib\u001b[0m\u001b[1;33m.\u001b[0m\u001b[0mmap_infer\u001b[0m\u001b[1;33m(\u001b[0m\u001b[0mvalues\u001b[0m\u001b[1;33m,\u001b[0m \u001b[0mf\u001b[0m\u001b[1;33m,\u001b[0m \u001b[0mconvert\u001b[0m\u001b[1;33m=\u001b[0m\u001b[0mconvert_dtype\u001b[0m\u001b[1;33m)\u001b[0m\u001b[1;33m\u001b[0m\u001b[0m\n\u001b[0m\u001b[0;32m   2221\u001b[0m \u001b[1;33m\u001b[0m\u001b[0m\n\u001b[0;32m   2222\u001b[0m         \u001b[1;32mif\u001b[0m \u001b[0mlen\u001b[0m\u001b[1;33m(\u001b[0m\u001b[0mmapped\u001b[0m\u001b[1;33m)\u001b[0m \u001b[1;32mand\u001b[0m \u001b[0misinstance\u001b[0m\u001b[1;33m(\u001b[0m\u001b[0mmapped\u001b[0m\u001b[1;33m[\u001b[0m\u001b[1;36m0\u001b[0m\u001b[1;33m]\u001b[0m\u001b[1;33m,\u001b[0m \u001b[0mSeries\u001b[0m\u001b[1;33m)\u001b[0m\u001b[1;33m:\u001b[0m\u001b[1;33m\u001b[0m\u001b[0m\n",
      "\u001b[1;32mpandas/src/inference.pyx\u001b[0m in \u001b[0;36mpandas.lib.map_infer (pandas/lib.c:62658)\u001b[1;34m()\u001b[0m\n",
      "\u001b[1;32m<ipython-input-129-394f0014635b>\u001b[0m in \u001b[0;36m<lambda>\u001b[1;34m(x)\u001b[0m\n\u001b[0;32m      3\u001b[0m \u001b[1;32mfor\u001b[0m \u001b[0mi\u001b[0m \u001b[1;32min\u001b[0m \u001b[0mrange\u001b[0m\u001b[1;33m(\u001b[0m\u001b[0mlen\u001b[0m\u001b[1;33m(\u001b[0m\u001b[0mdays\u001b[0m\u001b[1;33m)\u001b[0m\u001b[1;33m)\u001b[0m\u001b[1;33m:\u001b[0m\u001b[1;33m\u001b[0m\u001b[0m\n\u001b[0;32m      4\u001b[0m     \u001b[0mday\u001b[0m \u001b[1;33m=\u001b[0m \u001b[0mdays\u001b[0m\u001b[1;33m[\u001b[0m\u001b[0mi\u001b[0m\u001b[1;33m]\u001b[0m\u001b[1;33m\u001b[0m\u001b[0m\n\u001b[1;32m----> 5\u001b[1;33m     \u001b[0mdf_copy\u001b[0m\u001b[1;33m[\u001b[0m\u001b[1;34m'hired'\u001b[0m\u001b[1;33m]\u001b[0m \u001b[1;33m=\u001b[0m \u001b[0mdf_copy\u001b[0m\u001b[1;33m[\u001b[0m\u001b[1;34m'join_date'\u001b[0m\u001b[1;33m]\u001b[0m\u001b[1;33m.\u001b[0m\u001b[0mapply\u001b[0m\u001b[1;33m(\u001b[0m\u001b[1;32mlambda\u001b[0m \u001b[0mx\u001b[0m\u001b[1;33m:\u001b[0m \u001b[1;36m1\u001b[0m \u001b[1;32mif\u001b[0m \u001b[0mpd\u001b[0m\u001b[1;33m.\u001b[0m\u001b[0mto_datetime\u001b[0m\u001b[1;33m(\u001b[0m\u001b[0mx\u001b[0m\u001b[1;33m)\u001b[0m \u001b[1;33m<=\u001b[0m \u001b[0mday\u001b[0m \u001b[1;32melse\u001b[0m \u001b[1;36m0\u001b[0m\u001b[1;33m)\u001b[0m\u001b[1;33m\u001b[0m\u001b[0m\n\u001b[0m\u001b[0;32m      6\u001b[0m     \u001b[0mdf_copy\u001b[0m\u001b[1;33m[\u001b[0m\u001b[1;34m'quit'\u001b[0m\u001b[1;33m]\u001b[0m \u001b[1;33m=\u001b[0m \u001b[0mdf_copy\u001b[0m\u001b[1;33m[\u001b[0m\u001b[1;34m'quit_date'\u001b[0m\u001b[1;33m]\u001b[0m\u001b[1;33m.\u001b[0m\u001b[0mapply\u001b[0m\u001b[1;33m(\u001b[0m\u001b[1;32mlambda\u001b[0m \u001b[0mx\u001b[0m\u001b[1;33m:\u001b[0m \u001b[1;36m1\u001b[0m \u001b[1;32mif\u001b[0m \u001b[0mpd\u001b[0m\u001b[1;33m.\u001b[0m\u001b[0mto_datetime\u001b[0m\u001b[1;33m(\u001b[0m\u001b[0mx\u001b[0m\u001b[1;33m)\u001b[0m \u001b[1;33m<=\u001b[0m \u001b[0mday\u001b[0m \u001b[1;32melse\u001b[0m \u001b[1;36m0\u001b[0m\u001b[1;33m)\u001b[0m\u001b[1;33m\u001b[0m\u001b[0m\n\u001b[0;32m      7\u001b[0m     \u001b[0mdf_new\u001b[0m \u001b[1;33m=\u001b[0m \u001b[0mdf_copy\u001b[0m\u001b[1;33m.\u001b[0m\u001b[0mgroupby\u001b[0m\u001b[1;33m(\u001b[0m\u001b[1;34m'company_id'\u001b[0m\u001b[1;33m)\u001b[0m\u001b[1;33m.\u001b[0m\u001b[0magg\u001b[0m\u001b[1;33m(\u001b[0m\u001b[1;33m{\u001b[0m\u001b[1;34m'hired'\u001b[0m\u001b[1;33m:\u001b[0m \u001b[0msum\u001b[0m\u001b[1;33m,\u001b[0m \u001b[1;34m'quit'\u001b[0m\u001b[1;33m:\u001b[0m \u001b[0msum\u001b[0m\u001b[1;33m}\u001b[0m\u001b[1;33m)\u001b[0m\u001b[1;33m\u001b[0m\u001b[0m\n",
      "\u001b[1;32m/home/gigi/anaconda2/lib/python2.7/site-packages/pandas/util/decorators.pyc\u001b[0m in \u001b[0;36mwrapper\u001b[1;34m(*args, **kwargs)\u001b[0m\n\u001b[0;32m     89\u001b[0m                 \u001b[1;32melse\u001b[0m\u001b[1;33m:\u001b[0m\u001b[1;33m\u001b[0m\u001b[0m\n\u001b[0;32m     90\u001b[0m                     \u001b[0mkwargs\u001b[0m\u001b[1;33m[\u001b[0m\u001b[0mnew_arg_name\u001b[0m\u001b[1;33m]\u001b[0m \u001b[1;33m=\u001b[0m \u001b[0mnew_arg_value\u001b[0m\u001b[1;33m\u001b[0m\u001b[0m\n\u001b[1;32m---> 91\u001b[1;33m             \u001b[1;32mreturn\u001b[0m \u001b[0mfunc\u001b[0m\u001b[1;33m(\u001b[0m\u001b[1;33m*\u001b[0m\u001b[0margs\u001b[0m\u001b[1;33m,\u001b[0m \u001b[1;33m**\u001b[0m\u001b[0mkwargs\u001b[0m\u001b[1;33m)\u001b[0m\u001b[1;33m\u001b[0m\u001b[0m\n\u001b[0m\u001b[0;32m     92\u001b[0m         \u001b[1;32mreturn\u001b[0m \u001b[0mwrapper\u001b[0m\u001b[1;33m\u001b[0m\u001b[0m\n\u001b[0;32m     93\u001b[0m     \u001b[1;32mreturn\u001b[0m \u001b[0m_deprecate_kwarg\u001b[0m\u001b[1;33m\u001b[0m\u001b[0m\n",
      "\u001b[1;32m/home/gigi/anaconda2/lib/python2.7/site-packages/pandas/tseries/tools.pyc\u001b[0m in \u001b[0;36mto_datetime\u001b[1;34m(arg, errors, dayfirst, yearfirst, utc, box, format, exact, coerce, unit, infer_datetime_format)\u001b[0m\n\u001b[0;32m    289\u001b[0m                         \u001b[0myearfirst\u001b[0m\u001b[1;33m=\u001b[0m\u001b[0myearfirst\u001b[0m\u001b[1;33m,\u001b[0m\u001b[1;33m\u001b[0m\u001b[0m\n\u001b[0;32m    290\u001b[0m                         \u001b[0mutc\u001b[0m\u001b[1;33m=\u001b[0m\u001b[0mutc\u001b[0m\u001b[1;33m,\u001b[0m \u001b[0mbox\u001b[0m\u001b[1;33m=\u001b[0m\u001b[0mbox\u001b[0m\u001b[1;33m,\u001b[0m \u001b[0mformat\u001b[0m\u001b[1;33m=\u001b[0m\u001b[0mformat\u001b[0m\u001b[1;33m,\u001b[0m \u001b[0mexact\u001b[0m\u001b[1;33m=\u001b[0m\u001b[0mexact\u001b[0m\u001b[1;33m,\u001b[0m\u001b[1;33m\u001b[0m\u001b[0m\n\u001b[1;32m--> 291\u001b[1;33m                         unit=unit, infer_datetime_format=infer_datetime_format)\n\u001b[0m\u001b[0;32m    292\u001b[0m \u001b[1;33m\u001b[0m\u001b[0m\n\u001b[0;32m    293\u001b[0m \u001b[1;33m\u001b[0m\u001b[0m\n",
      "\u001b[1;32m/home/gigi/anaconda2/lib/python2.7/site-packages/pandas/tseries/tools.pyc\u001b[0m in \u001b[0;36m_to_datetime\u001b[1;34m(arg, errors, dayfirst, yearfirst, utc, box, format, exact, unit, freq, infer_datetime_format)\u001b[0m\n\u001b[0;32m    427\u001b[0m         \u001b[1;32mreturn\u001b[0m \u001b[0m_convert_listlike\u001b[0m\u001b[1;33m(\u001b[0m\u001b[0marg\u001b[0m\u001b[1;33m,\u001b[0m \u001b[0mbox\u001b[0m\u001b[1;33m,\u001b[0m \u001b[0mformat\u001b[0m\u001b[1;33m)\u001b[0m\u001b[1;33m\u001b[0m\u001b[0m\n\u001b[0;32m    428\u001b[0m \u001b[1;33m\u001b[0m\u001b[0m\n\u001b[1;32m--> 429\u001b[1;33m     \u001b[1;32mreturn\u001b[0m \u001b[0m_convert_listlike\u001b[0m\u001b[1;33m(\u001b[0m\u001b[0mnp\u001b[0m\u001b[1;33m.\u001b[0m\u001b[0marray\u001b[0m\u001b[1;33m(\u001b[0m\u001b[1;33m[\u001b[0m\u001b[0marg\u001b[0m\u001b[1;33m]\u001b[0m\u001b[1;33m)\u001b[0m\u001b[1;33m,\u001b[0m \u001b[0mbox\u001b[0m\u001b[1;33m,\u001b[0m \u001b[0mformat\u001b[0m\u001b[1;33m)\u001b[0m\u001b[1;33m[\u001b[0m\u001b[1;36m0\u001b[0m\u001b[1;33m]\u001b[0m\u001b[1;33m\u001b[0m\u001b[0m\n\u001b[0m\u001b[0;32m    430\u001b[0m \u001b[1;33m\u001b[0m\u001b[0m\n\u001b[0;32m    431\u001b[0m \u001b[1;31m# mappings for assembling units\u001b[0m\u001b[1;33m\u001b[0m\u001b[1;33m\u001b[0m\u001b[0m\n",
      "\u001b[1;32m/home/gigi/anaconda2/lib/python2.7/site-packages/pandas/tseries/tools.pyc\u001b[0m in \u001b[0;36m_convert_listlike\u001b[1;34m(arg, box, format, name)\u001b[0m\n\u001b[0;32m    400\u001b[0m \u001b[1;33m\u001b[0m\u001b[0m\n\u001b[0;32m    401\u001b[0m             \u001b[1;32mif\u001b[0m \u001b[0mcom\u001b[0m\u001b[1;33m.\u001b[0m\u001b[0mis_datetime64_dtype\u001b[0m\u001b[1;33m(\u001b[0m\u001b[0mresult\u001b[0m\u001b[1;33m)\u001b[0m \u001b[1;32mand\u001b[0m \u001b[0mbox\u001b[0m\u001b[1;33m:\u001b[0m\u001b[1;33m\u001b[0m\u001b[0m\n\u001b[1;32m--> 402\u001b[1;33m                 result = DatetimeIndex(result,\n\u001b[0m\u001b[0;32m    403\u001b[0m                                        \u001b[0mtz\u001b[0m\u001b[1;33m=\u001b[0m\u001b[1;34m'utc'\u001b[0m \u001b[1;32mif\u001b[0m \u001b[0mutc\u001b[0m \u001b[1;32melse\u001b[0m \u001b[0mNone\u001b[0m\u001b[1;33m,\u001b[0m\u001b[1;33m\u001b[0m\u001b[0m\n\u001b[0;32m    404\u001b[0m                                        name=name)\n",
      "\u001b[1;31mKeyboardInterrupt\u001b[0m: "
     ]
    }
   ],
   "source": [
    "# this method takes too long time to finish.\n",
    "d = defaultdict(list)\n",
    "df_copy = df\n",
    "for i in range(len(days)):\n",
    "    day = days[i]\n",
    "    df_copy['hired'] = df_copy['join_date'].apply(lambda x: 1 if pd.to_datetime(x) <= day else 0)\n",
    "    df_copy['quit'] = df_copy['quit_date'].apply(lambda x: 1 if pd.to_datetime(x) <= day else 0)\n",
    "    df_new = df_copy.groupby('company_id').agg({'hired': sum, 'quit': sum})\n",
    "    df_new['head_count'] = df_new['hired'] - df_new['quit']\n",
    "    df_new = pd.DataFrame(df_new.to_records())\n",
    "    for j in range(len(df_new)):\n",
    "        d[list(df_new['company_id'])[j]].append(list(df_new['head_count'])[j])\n"
   ]
  },
  {
   "cell_type": "code",
   "execution_count": 67,
   "metadata": {
    "collapsed": false
   },
   "outputs": [
    {
     "data": {
      "text/html": [
       "<div>\n",
       "<table border=\"1\" class=\"dataframe\">\n",
       "  <thead>\n",
       "    <tr style=\"text-align: right;\">\n",
       "      <th></th>\n",
       "      <th>0</th>\n",
       "      <th>1</th>\n",
       "      <th>2</th>\n",
       "    </tr>\n",
       "  </thead>\n",
       "  <tbody>\n",
       "    <tr>\n",
       "      <th>0</th>\n",
       "      <td>0.275510</td>\n",
       "      <td>0.184143</td>\n",
       "      <td>0.328072</td>\n",
       "    </tr>\n",
       "    <tr>\n",
       "      <th>1</th>\n",
       "      <td>0.193878</td>\n",
       "      <td>0.424552</td>\n",
       "      <td>0.189966</td>\n",
       "    </tr>\n",
       "    <tr>\n",
       "      <th>2</th>\n",
       "      <td>0.132653</td>\n",
       "      <td>0.214834</td>\n",
       "      <td>0.238444</td>\n",
       "    </tr>\n",
       "    <tr>\n",
       "      <th>3</th>\n",
       "      <td>0.193878</td>\n",
       "      <td>0.250639</td>\n",
       "      <td>0.217587</td>\n",
       "    </tr>\n",
       "    <tr>\n",
       "      <th>4</th>\n",
       "      <td>0.224490</td>\n",
       "      <td>0.662404</td>\n",
       "      <td>0.584555</td>\n",
       "    </tr>\n",
       "  </tbody>\n",
       "</table>\n",
       "</div>"
      ],
      "text/plain": [
       "          0         1         2\n",
       "0  0.275510  0.184143  0.328072\n",
       "1  0.193878  0.424552  0.189966\n",
       "2  0.132653  0.214834  0.238444\n",
       "3  0.193878  0.250639  0.217587\n",
       "4  0.224490  0.662404  0.584555"
      ]
     },
     "execution_count": 67,
     "metadata": {},
     "output_type": "execute_result"
    }
   ],
   "source": [
    "feats = ['seniority','salary','working_len']\n",
    "X = df[feats]\n",
    "y = df['quit_today']\n",
    "min_max_scaler = preprocessing.MinMaxScaler()\n",
    "np_scaled = min_max_scaler.fit_transform(X)\n",
    "X_norm = pd.DataFrame(np_scaled)\n",
    "X_train, X_test, y_train, y_test = train_test_split(X_norm, y, test_size=0.33, random_state=42)\n",
    "X_norm.head()"
   ]
  },
  {
   "cell_type": "code",
   "execution_count": 68,
   "metadata": {
    "collapsed": false
   },
   "outputs": [
    {
     "name": "stdout",
     "output_type": "stream",
     "text": [
      "0.62058390579 [[ 0.92117214 -0.69941458  1.27646623]]\n"
     ]
    }
   ],
   "source": [
    "log = LogisticRegression()\n",
    "score_log = log.fit(X_train, y_train).score(X_test,y_test)\n",
    "print score_log, log.coef_"
   ]
  },
  {
   "cell_type": "code",
   "execution_count": 73,
   "metadata": {
    "collapsed": false
   },
   "outputs": [
    {
     "name": "stdout",
     "output_type": "stream",
     "text": [
      "0.728655544652 DecisionTreeClassifier(class_weight=None, criterion='gini', max_depth=None,\n",
      "            max_features=None, max_leaf_nodes=None,\n",
      "            min_impurity_split=1e-07, min_samples_leaf=1,\n",
      "            min_samples_split=2, min_weight_fraction_leaf=0.0,\n",
      "            presort=False, random_state=None, splitter='best') [ 0.07588015  0.25671521  0.66740464]\n"
     ]
    }
   ],
   "source": [
    "rf = RandomForestClassifier()\n",
    "score_rf = rf.fit(X_train, y_train).score(X_test,y_test)\n",
    "print score_rf, rf.base_estimator_, rf.feature_importances_"
   ]
  },
  {
   "cell_type": "code",
   "execution_count": null,
   "metadata": {
    "collapsed": true
   },
   "outputs": [],
   "source": []
  }
 ],
 "metadata": {
  "anaconda-cloud": {},
  "kernelspec": {
   "display_name": "Python [Root]",
   "language": "python",
   "name": "Python [Root]"
  },
  "language_info": {
   "codemirror_mode": {
    "name": "ipython",
    "version": 2
   },
   "file_extension": ".py",
   "mimetype": "text/x-python",
   "name": "python",
   "nbconvert_exporter": "python",
   "pygments_lexer": "ipython2",
   "version": "2.7.12"
  }
 },
 "nbformat": 4,
 "nbformat_minor": 0
}
